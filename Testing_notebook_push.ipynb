{
 "cells": [
  {
   "cell_type": "code",
   "execution_count": null,
   "metadata": {},
   "outputs": [],
   "source": [
    "#first line"
   ]
  },
  {
   "cell_type": "code",
   "execution_count": 1,
   "metadata": {},
   "outputs": [
    {
     "name": "stdout",
     "output_type": "stream",
     "text": [
      "# On branch demo_iris\r\n",
      "# Changes not staged for commit:\r\n",
      "#   (use \"git add/rm <file>...\" to update what will be committed)\r\n",
      "#   (use \"git checkout -- <file>...\" to discard changes in working directory)\r\n",
      "#\r\n",
      "#\tmodified:   ../AutoInsurance_Fraud_Model.ipynb\r\n",
      "#\tdeleted:    ../ModelDemo.ipynb\r\n",
      "#\tdeleted:    ../ModelDemo.py\r\n",
      "#\tdeleted:    ../Untitled2.ipynb\r\n",
      "#\tmodified:   ../test.ipynb\r\n",
      "#\r\n",
      "# Untracked files:\r\n",
      "#   (use \"git add <file>...\" to include in what will be committed)\r\n",
      "#\r\n",
      "#\t../.ipynb_checkpoints/\r\n",
      "#\t../AutoFraud_Model.ipynb\r\n",
      "#\t../Iris.csv\r\n",
      "#\t./\r\n",
      "#\t../MC11/\r\n",
      "#\t../MC5/\r\n",
      "#\t../MC7/\r\n",
      "#\t../MC9/\r\n",
      "#\t../MoneyMart_PTD_Model.ipynb\r\n",
      "#\t../Untitled.ipynb\r\n",
      "#\t../Untitled1.ipynb\r\n",
      "#\t../ipynb_modelcode_mapper_file.pkl\r\n",
      "#\t../packages/\r\n",
      "#\t../startJupyter.sh\r\n",
      "#\t../stopJupyter.sh\r\n",
      "#\t../test.py\r\n",
      "#\t../untitled.txt\r\n",
      "#\t../venv_jupyter/\r\n",
      "no changes added to commit (use \"git add\" and/or \"git commit -a\")\r\n"
     ]
    }
   ],
   "source": [
    "!git status"
   ]
  }
 ],
 "metadata": {
  "kernelspec": {
   "display_name": "Python 3",
   "language": "python",
   "name": "python3"
  },
  "language_info": {
   "codemirror_mode": {
    "name": "ipython",
    "version": 3
   },
   "file_extension": ".py",
   "mimetype": "text/x-python",
   "name": "python",
   "nbconvert_exporter": "python",
   "pygments_lexer": "ipython3",
   "version": "3.7.3"
  },
  "toc": {
   "base_numbering": 1,
   "nav_menu": {},
   "number_sections": true,
   "sideBar": true,
   "skip_h1_title": false,
   "title_cell": "Table of Contents",
   "title_sidebar": "Contents",
   "toc_cell": false,
   "toc_position": {},
   "toc_section_display": true,
   "toc_window_display": false
  }
 },
 "nbformat": 4,
 "nbformat_minor": 2
}
