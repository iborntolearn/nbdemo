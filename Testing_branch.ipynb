{
 "cells": [
  {
   "cell_type": "code",
   "execution_count": 4,
   "metadata": {},
   "outputs": [
    {
     "name": "stdout",
     "output_type": "stream",
     "text": [
      "usage: git stash list [<options>]\r\n",
      "   or: git stash show [<stash>]\r\n",
      "   or: git stash drop [-q|--quiet] [<stash>]\r\n",
      "   or: git stash ( pop | apply ) [--index] [-q|--quiet] [<stash>]\r\n",
      "   or: git stash branch <branchname> [<stash>]\r\n",
      "   or: git stash [save [--patch] [-k|--[no-]keep-index] [-q|--quiet]\r\n",
      "\t\t       [-u|--include-untracked] [-a|--all] [<message>]]\r\n",
      "   or: git stash clear\r\n"
     ]
    }
   ],
   "source": [
    "!git stash branch demo_iris"
   ]
  },
  {
   "cell_type": "code",
   "execution_count": null,
   "metadata": {},
   "outputs": [],
   "source": [
    "!git add "
   ]
  }
 ],
 "metadata": {
  "kernelspec": {
   "display_name": "Python 3",
   "language": "python",
   "name": "python3"
  },
  "language_info": {
   "codemirror_mode": {
    "name": "ipython",
    "version": 3
   },
   "file_extension": ".py",
   "mimetype": "text/x-python",
   "name": "python",
   "nbconvert_exporter": "python",
   "pygments_lexer": "ipython3",
   "version": "3.7.3"
  },
  "toc": {
   "base_numbering": 1,
   "nav_menu": {},
   "number_sections": true,
   "sideBar": true,
   "skip_h1_title": false,
   "title_cell": "Table of Contents",
   "title_sidebar": "Contents",
   "toc_cell": false,
   "toc_position": {},
   "toc_section_display": true,
   "toc_window_display": false
  }
 },
 "nbformat": 4,
 "nbformat_minor": 2
}
