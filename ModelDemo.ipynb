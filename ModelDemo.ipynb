{
 "cells": [
  {
   "cell_type": "markdown",
   "metadata": {},
   "source": [
    "<div style='font-size:30px; color:green; font-weight: bold; margin-bottom: 20px'>Model Builder Template</div> \n",
    " \t\t\t<div style='font-size:25px; font-weight: bold'>Overview</div>\n",
    "\n",
    "* \t\t\tThis template is used for seamless integration with CDMS serving layer by preparing `custom_model.py` and `metadata.json` files.\n",
    "* \t\t\tWhen this template is opened, a folder with name same as Model Code was created in the local. \n",
    "* \t\t\tThe cells with code containing <i>import statements</i> or <i>function definitions</i> will be extracted to the `custom_model.py`.\n",
    "* \t\t\tPlease refer to the Model Onboarding User Guide to get the detailed working of this template."
   ]
  },
  {
   "cell_type": "markdown",
   "metadata": {},
   "source": [
    "<div style='font-size:20px'>Note: Rename your notebook file to some meaningful model before doing \t\t\tany model development. Changing notebook name after onboarding can make your code behave erroneously.</div>"
   ]
  },
  {
   "cell_type": "markdown",
   "metadata": {},
   "source": [
    "## 1. Model Informatoin"
   ]
  },
  {
   "cell_type": "markdown",
   "metadata": {},
   "source": [
    "### 1.1 Initialize metadata"
   ]
  },
  {
   "cell_type": "code",
   "execution_count": 1,
   "metadata": {},
   "outputs": [
    {
     "data": {
      "application/javascript": [
       "if (IPython.notebook.kernel) {IPython.notebook.kernel.execute('nb_name = ' + '\"' + IPython.notebook.notebook_name + '\"')}"
      ],
      "text/plain": [
       "<IPython.core.display.Javascript object>"
      ]
     },
     "execution_count": 1,
     "metadata": {},
     "output_type": "execute_result"
    }
   ],
   "source": [
    "initialize_metadata()"
   ]
  },
  {
   "cell_type": "markdown",
   "metadata": {},
   "source": [
    "### 1.2 Meta data Information\n",
    "* \t\t\tPlease enter a unique model code, model name (e.g. Customer Churn, Propensity to Default, CLTV etc) and Model description.\n",
    "* \t\t\tPlease ensure the 'Create Workspace' button is clicked.\n",
    "* \t\t\tFor more information, please refer to the User Guide."
   ]
  },
  {
   "cell_type": "code",
   "execution_count": 2,
   "metadata": {},
   "outputs": [
    {
     "data": {
      "application/vnd.jupyter.widget-view+json": {
       "model_id": "abcee9f30d9e41338e9e7d02750181b6",
       "version_major": 2,
       "version_minor": 0
      },
      "text/plain": [
       "VBox(children=(HBox(children=(Text(value='MC1', description='Model Code', disabled=True, placeholder=''), Drop…"
      ]
     },
     "metadata": {},
     "output_type": "display_data"
    },
    {
     "data": {
      "application/vnd.jupyter.widget-view+json": {
       "model_id": "d7dc301c0e15412588de4abdb5cec82f",
       "version_major": 2,
       "version_minor": 0
      },
      "text/plain": [
       "Button(description='Create Workspace', style=ButtonStyle())"
      ]
     },
     "metadata": {},
     "output_type": "display_data"
    },
    {
     "data": {
      "application/vnd.jupyter.widget-view+json": {
       "model_id": "3128b8fca1d24056bcb24d0f5ee32577",
       "version_major": 2,
       "version_minor": 0
      },
      "text/plain": [
       "Output()"
      ]
     },
     "metadata": {},
     "output_type": "display_data"
    }
   ],
   "source": [
    "enter_metadata_information(1)"
   ]
  },
  {
   "cell_type": "markdown",
   "metadata": {},
   "source": [
    "## 2. Import Packages\n",
    "* \t\t\tThe following cell can be used to import all the required python packages.\n",
    "* \t\t\tPlease import the `gr` package to use the pre-defined models and functionalities. \t\t\tFor more information, please refer to the User Guide."
   ]
  },
  {
   "cell_type": "code",
   "execution_count": 4,
   "metadata": {},
   "outputs": [],
   "source": [
    "#imports \n",
    "import os, sys, pickle;\n",
    "import pandas as pd"
   ]
  },
  {
   "cell_type": "markdown",
   "metadata": {},
   "source": [
    "## 3. Read Data from Source\n",
    "* \t\t\tThe following code snippet can be used to read the data from different types of sources.\n",
    "* \t\t\tPlease provide the correct details and appropriate queries to read the data. **Note**: This is optional.\n",
    "* \t\t\tThe data can also be read using the functionality provided by the `gr` package.\n",
    "* \t\t\tTo read from s3 use: df = read_data('s3://file Path')"
   ]
  },
  {
   "cell_type": "markdown",
   "metadata": {},
   "source": [
    "df=get_data_from_db(\n",
    "dbtype='postgresql',\n",
    "username='retailuser',\n",
    "password='XXXXXXX',\n",
    "host='172.18.128.14',\n",
    "port='5533',\n",
    "database_name='APT_POC',\n",
    "sql_query='select * from <<table>>'\n",
    ")\n",
    "df.shape"
   ]
  },
  {
   "cell_type": "code",
   "execution_count": 1,
   "metadata": {},
   "outputs": [],
   "source": [
    "def read_data(inpath):\n",
    "    return pd.read_csv(inpath)"
   ]
  },
  {
   "cell_type": "code",
   "execution_count": 2,
   "metadata": {},
   "outputs": [],
   "source": [
    "df = read_data('/u01/HomeDir/cipuser/JUPYTER/student')"
   ]
  },
  {
   "cell_type": "code",
   "execution_count": 3,
   "metadata": {},
   "outputs": [
    {
     "data": {
      "text/html": [
       "<div>\n",
       "<style scoped>\n",
       "    .dataframe tbody tr th:only-of-type {\n",
       "        vertical-align: middle;\n",
       "    }\n",
       "\n",
       "    .dataframe tbody tr th {\n",
       "        vertical-align: top;\n",
       "    }\n",
       "\n",
       "    .dataframe thead th {\n",
       "        text-align: right;\n",
       "    }\n",
       "</style>\n",
       "<table border=\"1\" class=\"dataframe\">\n",
       "  <thead>\n",
       "    <tr style=\"text-align: right;\">\n",
       "      <th></th>\n",
       "      <th>rollno</th>\n",
       "      <th>name</th>\n",
       "      <th>subject</th>\n",
       "    </tr>\n",
       "  </thead>\n",
       "  <tbody>\n",
       "    <tr>\n",
       "      <th>0</th>\n",
       "      <td>1</td>\n",
       "      <td>name1</td>\n",
       "      <td>eng</td>\n",
       "    </tr>\n",
       "    <tr>\n",
       "      <th>1</th>\n",
       "      <td>2</td>\n",
       "      <td>name2</td>\n",
       "      <td>history</td>\n",
       "    </tr>\n",
       "    <tr>\n",
       "      <th>2</th>\n",
       "      <td>3</td>\n",
       "      <td>john</td>\n",
       "      <td>science</td>\n",
       "    </tr>\n",
       "    <tr>\n",
       "      <th>3</th>\n",
       "      <td>4</td>\n",
       "      <td>robert</td>\n",
       "      <td>language</td>\n",
       "    </tr>\n",
       "  </tbody>\n",
       "</table>\n",
       "</div>"
      ],
      "text/plain": [
       "   rollno     name    subject\n",
       "0       1    name1        eng\n",
       "1       2    name2    history\n",
       "2       3     john    science\n",
       "3       4   robert   language"
      ]
     },
     "execution_count": 3,
     "metadata": {},
     "output_type": "execute_result"
    }
   ],
   "source": [
    "df.head()"
   ]
  },
  {
   "cell_type": "markdown",
   "metadata": {},
   "source": [
    "## 4. Exploratory Data Analysis \n",
    "* \t\t\tThe following code snippet provided can be used to get first hand information on the dataset that is going to be analysed. \n",
    "* \t\t\tAfter fetching details to `pandas.dataframe df`, please execute the shell to get the data analysis report. \n",
    "* \t\t\t<div style='font-size:15px; font-weight: bold'>Warning** : This is not recommended for a huge dataset as it may take a longer time to generate the report.</div>"
   ]
  },
  {
   "cell_type": "code",
   "execution_count": null,
   "metadata": {},
   "outputs": [],
   "source": [
    "exploratory_data_analysis(df)"
   ]
  },
  {
   "cell_type": "markdown",
   "metadata": {},
   "source": [
    "## 5. Preprocessing"
   ]
  },
  {
   "cell_type": "code",
   "execution_count": 16,
   "metadata": {},
   "outputs": [],
   "source": [
    "df['new_col'] = pd.Series([100,200,200,100])"
   ]
  },
  {
   "cell_type": "code",
   "execution_count": 17,
   "metadata": {},
   "outputs": [
    {
     "data": {
      "text/html": [
       "<div>\n",
       "<style scoped>\n",
       "    .dataframe tbody tr th:only-of-type {\n",
       "        vertical-align: middle;\n",
       "    }\n",
       "\n",
       "    .dataframe tbody tr th {\n",
       "        vertical-align: top;\n",
       "    }\n",
       "\n",
       "    .dataframe thead th {\n",
       "        text-align: right;\n",
       "    }\n",
       "</style>\n",
       "<table border=\"1\" class=\"dataframe\">\n",
       "  <thead>\n",
       "    <tr style=\"text-align: right;\">\n",
       "      <th></th>\n",
       "      <th>rollno</th>\n",
       "      <th>name</th>\n",
       "      <th>subject</th>\n",
       "      <th>new_col</th>\n",
       "    </tr>\n",
       "  </thead>\n",
       "  <tbody>\n",
       "    <tr>\n",
       "      <th>0</th>\n",
       "      <td>1</td>\n",
       "      <td>name1</td>\n",
       "      <td>eng</td>\n",
       "      <td>100</td>\n",
       "    </tr>\n",
       "    <tr>\n",
       "      <th>1</th>\n",
       "      <td>2</td>\n",
       "      <td>name2</td>\n",
       "      <td>history</td>\n",
       "      <td>200</td>\n",
       "    </tr>\n",
       "    <tr>\n",
       "      <th>2</th>\n",
       "      <td>3</td>\n",
       "      <td>john</td>\n",
       "      <td>science</td>\n",
       "      <td>200</td>\n",
       "    </tr>\n",
       "    <tr>\n",
       "      <th>3</th>\n",
       "      <td>4</td>\n",
       "      <td>robert</td>\n",
       "      <td>language</td>\n",
       "      <td>100</td>\n",
       "    </tr>\n",
       "  </tbody>\n",
       "</table>\n",
       "</div>"
      ],
      "text/plain": [
       "   rollno     name    subject  new_col\n",
       "0       1    name1        eng      100\n",
       "1       2    name2    history      200\n",
       "2       3     john    science      200\n",
       "3       4   robert   language      100"
      ]
     },
     "execution_count": 17,
     "metadata": {},
     "output_type": "execute_result"
    }
   ],
   "source": [
    "df"
   ]
  },
  {
   "cell_type": "markdown",
   "metadata": {},
   "source": [
    "## 6. Feature Selection"
   ]
  },
  {
   "cell_type": "code",
   "execution_count": 19,
   "metadata": {},
   "outputs": [],
   "source": [
    "# this is where feature selection method goes"
   ]
  },
  {
   "cell_type": "markdown",
   "metadata": {},
   "source": [
    "<div style='font-size:20px; font-weight:bold'>Save Model</div> \n",
    "\n",
    "* \t\t\tThe following method can be used to save the trained model in the model folder structure created. \n",
    "* \t\t\tThe method parameter `trained_model` accepts the estimator(trained model) that is to be stored as model `pickle` file. \n",
    " \t\t\tThe method parameter `filename` accepts a `string` containing the pickle file name."
   ]
  },
  {
   "cell_type": "code",
   "execution_count": null,
   "metadata": {},
   "outputs": [],
   "source": [
    "def save_model(trained_model, file_name):\n",
    "    model_pickle_path = None\n",
    "    try:\n",
    "        model_pickle_path = os.path.abspath(os.path.join(__file__, os.pardir, file_name))\n",
    "    except Exception:\n",
    "        model_pickle_path = os.path.join(os.path.abspath(''),file_name)\n",
    "    with open(model_pickle_path, 'wb') as pickle_out:\n",
    "        pickle.dump(trained_model, pickle_out)"
   ]
  },
  {
   "cell_type": "markdown",
   "metadata": {},
   "source": [
    "<div style='font-size:20px; font-weight:bold'>Load Model</div> \n",
    "\n",
    "* \t\t\tThe following method can be used to load the saved model from the model folder structure. \n",
    "* \t\t\tThe method parameter `filename` accepts a `string` containing the model pickle file name that is to be loaded."
   ]
  },
  {
   "cell_type": "code",
   "execution_count": null,
   "metadata": {},
   "outputs": [],
   "source": [
    "def load_model(file_name):\n",
    "    model = None\n",
    "    model_pickle_path = None\n",
    "    try:\n",
    "        model_pickle_path = os.path.abspath(os.path.join(__file__, os.pardir, file_name))\n",
    "    except Exception:\n",
    "        model_pickle_path = os.path.join(os.path.abspath(''),file_name)\n",
    "    with open(model_pickle_path, 'rb') as pickle_in:\n",
    "        model = pickle.load(pickle_in)\n",
    "    return model"
   ]
  },
  {
   "cell_type": "markdown",
   "metadata": {},
   "source": [
    "## 7. Model Training \n",
    "* \t\t\tThe methods `train_model(inputdata:dict)` and `get_prediction(inputdata:dict)` are mandatory and needs to be present in the `custom.py` file. \n",
    "* \t\t\tThe parameter `inputdata` in both `train_model()` and `get_prediction()` needs to be a dictionary. \n",
    "\n",
    " \t\t\tFor Example: \n",
    " `inputdata= { \"outputpath\" : \"**/output/\",  \"inputfilepath\" : \"filepath\" }`"
   ]
  },
  {
   "cell_type": "code",
   "execution_count": 12,
   "metadata": {},
   "outputs": [],
   "source": [
    "def train_model(inputdata: dict):\n",
    "    '''This method is used for building and training the Model.'''\n",
    "    pass"
   ]
  },
  {
   "cell_type": "markdown",
   "metadata": {},
   "source": [
    "## 8. Model Evaluation"
   ]
  },
  {
   "cell_type": "code",
   "execution_count": null,
   "metadata": {},
   "outputs": [],
   "source": []
  },
  {
   "cell_type": "markdown",
   "metadata": {},
   "source": [
    "## 9. Model explainability"
   ]
  },
  {
   "cell_type": "code",
   "execution_count": null,
   "metadata": {},
   "outputs": [],
   "source": []
  },
  {
   "cell_type": "markdown",
   "metadata": {},
   "source": [
    "## 10. Model Scoring"
   ]
  },
  {
   "cell_type": "code",
   "execution_count": 13,
   "metadata": {},
   "outputs": [],
   "source": [
    "def get_prediction(inputdata: dict):\n",
    "    '''This method is used for predicting the output when appropriate data is fed to the trained model.'''\n",
    "    pass"
   ]
  },
  {
   "cell_type": "markdown",
   "metadata": {},
   "source": [
    "## 11. Model Onboarding"
   ]
  },
  {
   "cell_type": "markdown",
   "metadata": {},
   "source": [
    "<div style='font-size:20px; font-weight:bold'> Please save the notebook after any change to ensure the correct code extraction.</div>"
   ]
  },
  {
   "cell_type": "code",
   "execution_count": 14,
   "metadata": {},
   "outputs": [
    {
     "data": {
      "application/javascript": [
       "require([\"base/js/namespace\"],function(Jupyter) {    Jupyter.notebook.save_checkpoint();    });"
      ],
      "text/plain": [
       "<IPython.core.display.Javascript object>"
      ]
     },
     "execution_count": 14,
     "metadata": {},
     "output_type": "execute_result"
    }
   ],
   "source": [
    "save_notebook()"
   ]
  },
  {
   "cell_type": "markdown",
   "metadata": {},
   "source": [
    "<div style='font-size:15px; font-weight:bold'> Please execute the following function everytime the notebook is renamed.</div>"
   ]
  },
  {
   "cell_type": "markdown",
   "metadata": {},
   "source": [
    "*********** PLEASE ENSURE TO EXECUTE THE BELOW SHELL BEFORE PROCEEDING FOR MODEL ONBOARDING ************ \n",
    " \t\t\t<div style='font-size:15px; font-weight:bold'> Please execute the following cell and provide the model independent and dependent variable information for creation of metadata file.</div>"
   ]
  },
  {
   "cell_type": "code",
   "execution_count": null,
   "metadata": {},
   "outputs": [],
   "source": [
    "enter_metadata_information(2)"
   ]
  },
  {
   "cell_type": "markdown",
   "metadata": {},
   "source": [
    "### 10.1 Push Model to CDMS  \n",
    "* \t\t\tPlease execute the following cell to onboard the model to the CDMS server. \n",
    "* \t\t\tBefore onboarding the model, please ensure that the programmable interface for both training and prediction are present in the notebook and working. \n",
    "* \t\t\tPlease execution this cell will push a new version of the model to CDMS"
   ]
  },
  {
   "cell_type": "code",
   "execution_count": null,
   "metadata": {},
   "outputs": [],
   "source": [
    "metadata_dict['db_interaction'] = False\n",
    "onboard(metadata_dict, \n",
    "updt_db_cust_mdl=False, \n",
    "trained_mdl_type=None )"
   ]
  },
  {
   "cell_type": "code",
   "execution_count": null,
   "metadata": {},
   "outputs": [],
   "source": []
  }
 ],
 "metadata": {
  "kernelspec": {
   "display_name": "Python 3",
   "language": "python",
   "name": "python3"
  },
  "language_info": {
   "codemirror_mode": {
    "name": "ipython",
    "version": 3
   },
   "file_extension": ".py",
   "mimetype": "text/x-python",
   "name": "python",
   "nbconvert_exporter": "python",
   "pygments_lexer": "ipython3",
   "version": "3.7.3"
  },
  "toc": {
   "base_numbering": 1,
   "nav_menu": {},
   "number_sections": false,
   "sideBar": true,
   "skip_h1_title": false,
   "title_cell": "Table of Contents",
   "title_sidebar": "Contents",
   "toc_cell": false,
   "toc_position": {},
   "toc_section_display": true,
   "toc_window_display": false
  }
 },
 "nbformat": 4,
 "nbformat_minor": 2
}
